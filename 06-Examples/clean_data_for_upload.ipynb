{
 "cells": [
  {
   "cell_type": "code",
   "execution_count": 12,
   "id": "2e6a0e8f",
   "metadata": {},
   "outputs": [],
   "source": [
    "import pandas as pd\n",
    "import os\n",
    "from rdkit import Chem\n"
   ]
  },
  {
   "cell_type": "code",
   "execution_count": null,
   "id": "2d8b2904",
   "metadata": {
    "scrolled": true
   },
   "outputs": [],
   "source": [
    "filename = r'C:/path/filename.xlsx'\n",
    "\n",
    "df = pd.read_excel(filename)\n",
    "# df.rename(columns={\"Ex_Compound_ID\":\"Compound_ID\"},inplace=True)"
   ]
  },
  {
   "cell_type": "code",
   "execution_count": null,
   "id": "19a29610",
   "metadata": {
    "scrolled": true
   },
   "outputs": [],
   "source": [
    "df"
   ]
  },
  {
   "cell_type": "code",
   "execution_count": 11,
   "id": "609c0b9b",
   "metadata": {
    "scrolled": true
   },
   "outputs": [],
   "source": [
    "# df['Code'] = [col.split(\"F\")[0]+'L'+col.split(\"F\")[1]for col in df['ABOF']]"
   ]
  },
  {
   "cell_type": "code",
   "execution_count": null,
   "id": "9d41d5bb",
   "metadata": {},
   "outputs": [],
   "source": [
    "mapping = pd.read_excel(r'C:/path/mappingfile.xlsx')\n",
    "id2abcode = dict(zip(mapping['Compound_ID'].astype(str),mapping['AB_Code']))\n",
    "df['AB_Code'] = df['AB_Code'].fillna(df['Compound_ID'].astype(str).map(id2abcode))"
   ]
  },
  {
   "cell_type": "code",
   "execution_count": null,
   "id": "b274f4c5",
   "metadata": {},
   "outputs": [],
   "source": [
    "df['cargo']='luc'\n",
    "df['administration'] = 'i.m.'\n",
    "# df['Animal Dose(mpk)']=0.5\n",
    "df['Animal Dose']='2ug/mouse'\n",
    "\n",
    "# df['REMARK']=str(2)"
   ]
  },
  {
   "cell_type": "code",
   "execution_count": null,
   "id": "616c7a84",
   "metadata": {},
   "outputs": [],
   "source": [
    "struc = []\n",
    "sdfpath = r'Z:\\path\\sdf'\n",
    "\n",
    "for cid in df[\"Compound_ID\"]:\n",
    "    sdffile = str(cid)+'.sdf'\n",
    "    with open(os.path.join(sdfpath, sdffile),'r',encoding='UTF-8') as f:\n",
    "        content = f.read()\n",
    "    struc.append(content)\n",
    "#         print(content)\n",
    "df[\"MolAttr.Mol\"]=struc\n",
    "df"
   ]
  },
  {
   "cell_type": "code",
   "execution_count": null,
   "id": "58b3647a",
   "metadata": {
    "scrolled": true
   },
   "outputs": [],
   "source": [
    "for name in df.columns[:-1]:\n",
    "    newname = \"CustomField.\"+name\n",
    "    df.rename(columns={name:newname}, inplace = True)\n",
    "    \n",
    "df"
   ]
  },
  {
   "cell_type": "code",
   "execution_count": 23,
   "id": "5430658e",
   "metadata": {},
   "outputs": [
    {
     "data": {
      "text/plain": [
       "33"
      ]
     },
     "execution_count": 23,
     "metadata": {},
     "output_type": "execute_result"
    }
   ],
   "source": [
    "len(df)"
   ]
  },
  {
   "cell_type": "code",
   "execution_count": null,
   "id": "320b4793",
   "metadata": {},
   "outputs": [],
   "source": [
    "df.to_csv(r'C:/path/filename_upload.csv', index = None, encoding='utf_8_sig')"
   ]
  },
  {
   "cell_type": "code",
   "execution_count": null,
   "id": "272fdb27",
   "metadata": {},
   "outputs": [],
   "source": []
  }
 ],
 "metadata": {
  "kernelspec": {
   "display_name": "Python 3 (ipykernel)",
   "language": "python",
   "name": "python3"
  },
  "language_info": {
   "codemirror_mode": {
    "name": "ipython",
    "version": 3
   },
   "file_extension": ".py",
   "mimetype": "text/x-python",
   "name": "python",
   "nbconvert_exporter": "python",
   "pygments_lexer": "ipython3",
   "version": "3.13.0"
  }
 },
 "nbformat": 4,
 "nbformat_minor": 5
}
